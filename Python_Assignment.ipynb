{
 "cells": [
  {
   "cell_type": "markdown",
   "id": "c29b32a6",
   "metadata": {},
   "source": [
    "## 🔷 Python Programming Assignment"
   ]
  },
  {
   "cell_type": "markdown",
   "id": "6d5d9740",
   "metadata": {},
   "source": [
    "### 1. **Key Features of Python**"
   ]
  },
  {
   "cell_type": "code",
   "execution_count": null,
   "id": "4eadb680",
   "metadata": {},
   "outputs": [],
   "source": [
    "\n",
    "# Key Features of Python:\n",
    "# 1. Easy to Learn and Use\n",
    "# 2. Interpreted Language\n",
    "# 3. Dynamically Typed\n",
    "# 4. Extensive Standard Library\n",
    "# 5. Open Source\n",
    "# 6. Portable\n",
    "# 7. Supports Object-Oriented and Functional Programming\n",
    "\n",
    "# Example:\n",
    "print(\"Hello, Python!\")  # Simple syntax and readable\n"
   ]
  },
  {
   "cell_type": "markdown",
   "id": "8e873623",
   "metadata": {},
   "source": [
    "### 2. **Predefined Keywords in Python**"
   ]
  },
  {
   "cell_type": "code",
   "execution_count": null,
   "id": "e2421926",
   "metadata": {},
   "outputs": [],
   "source": [
    "\n",
    "# Keywords are reserved words like: if, else, for, while, def, return, etc.\n",
    "\n",
    "# Example:\n",
    "def greet(name):\n",
    "    if name:\n",
    "        return f\"Hello, {name}!\"\n",
    "    else:\n",
    "        return \"Hello!\"\n",
    "\n",
    "print(greet(\"Boxy\"))\n",
    "\n",
    "# Keywords used: def, if, else, return\n"
   ]
  },
  {
   "cell_type": "markdown",
   "id": "f9301c35",
   "metadata": {},
   "source": [
    "### 3. **Mutable vs Immutable Objects**"
   ]
  },
  {
   "cell_type": "code",
   "execution_count": null,
   "id": "c1d4db41",
   "metadata": {},
   "outputs": [],
   "source": [
    "\n",
    "# Mutable: Can be changed (e.g., list)\n",
    "# Immutable: Cannot be changed (e.g., tuple, string)\n",
    "\n",
    "# Example:\n",
    "my_list = [1, 2, 3]\n",
    "my_list.append(4)  # List is mutable\n",
    "print(\"Mutable List:\", my_list)\n",
    "\n",
    "my_tuple = (1, 2, 3)\n",
    "# my_tuple[0] = 4  # Error: 'tuple' object does not support item assignment\n",
    "print(\"Immutable Tuple:\", my_tuple)\n"
   ]
  },
  {
   "cell_type": "markdown",
   "id": "b9802f24",
   "metadata": {},
   "source": [
    "### 4. **Types of Operators in Python**"
   ]
  },
  {
   "cell_type": "code",
   "execution_count": null,
   "id": "b8e2c010",
   "metadata": {},
   "outputs": [],
   "source": [
    "\n",
    "# 1. Arithmetic Operators: +, -, *, /\n",
    "# 2. Comparison Operators: ==, !=, >, <, >=, <=\n",
    "# 3. Logical Operators: and, or, not\n",
    "# 4. Assignment Operators: =, +=, -=\n",
    "# 5. Bitwise Operators: &, |, ^\n",
    "# 6. Membership Operators: in, not in\n",
    "\n",
    "# Example:\n",
    "a, b = 10, 20\n",
    "print(a + b)             # Arithmetic\n",
    "print(a > b)             # Comparison\n",
    "print(a < b and b > 15)  # Logical\n"
   ]
  },
  {
   "cell_type": "markdown",
   "id": "18043a46",
   "metadata": {},
   "source": [
    "### 5. **Type Casting in Python**"
   ]
  },
  {
   "cell_type": "code",
   "execution_count": null,
   "id": "22f52019",
   "metadata": {},
   "outputs": [],
   "source": [
    "\n",
    "# Type casting converts one data type to another\n",
    "\n",
    "x = \"100\"\n",
    "y = int(x)  # Casting string to integer\n",
    "z = float(x)  # Casting to float\n",
    "\n",
    "print(\"Integer:\", y)\n",
    "print(\"Float:\", z)\n"
   ]
  },
  {
   "cell_type": "markdown",
   "id": "51942dd2",
   "metadata": {},
   "source": [
    "### 6. **Conditional Statements in Python**"
   ]
  },
  {
   "cell_type": "code",
   "execution_count": null,
   "id": "ab657480",
   "metadata": {},
   "outputs": [],
   "source": [
    "\n",
    "# if, elif, else are used to control flow\n",
    "\n",
    "num = 5\n",
    "if num > 0:\n",
    "    print(\"Positive\")\n",
    "elif num == 0:\n",
    "    print(\"Zero\")\n",
    "else:\n",
    "    print(\"Negative\")\n"
   ]
  },
  {
   "cell_type": "markdown",
   "id": "73307f47",
   "metadata": {},
   "source": [
    "### 7. **Types of Loops in Python**"
   ]
  },
  {
   "cell_type": "code",
   "execution_count": null,
   "id": "bf6b538e",
   "metadata": {},
   "outputs": [],
   "source": [
    "\n",
    "# For loop: Used to iterate over a sequence\n",
    "for i in range(3):\n",
    "    print(\"For Loop Iteration:\", i)\n",
    "\n",
    "# While loop: Executes as long as a condition is true\n",
    "count = 0\n",
    "while count < 3:\n",
    "    print(\"While Loop Count:\", count)\n",
    "    count += 1\n"
   ]
  }
 ],
 "metadata": {},
 "nbformat": 4,
 "nbformat_minor": 5
}
